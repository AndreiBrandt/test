{
 "cells": [
  {
   "cell_type": "markdown",
   "metadata": {},
   "source": [
    "Угадай число"
   ]
  },
  {
   "cell_type": "code",
   "execution_count": 16,
   "metadata": {},
   "outputs": [],
   "source": [
    "from game_last import score_game\n"
   ]
  },
  {
   "cell_type": "code",
   "execution_count": 17,
   "metadata": {},
   "outputs": [
    {
     "name": "stdout",
     "output_type": "stream",
     "text": [
      "Загаданное число меньше 25\n",
      "Загаданное число больше 38\n",
      "Загаданное число меньше 25\n",
      "Загаданное число меньше 12\n",
      "Загаданное число больше 19\n",
      "Загаданное число меньше 15\n",
      "Загаданное число меньше 13\n",
      "4\n"
     ]
    },
    {
     "data": {
      "text/plain": [
       "4"
      ]
     },
     "execution_count": 17,
     "metadata": {},
     "output_type": "execute_result"
    }
   ],
   "source": [
    "score_game(random_predict)"
   ]
  },
  {
   "cell_type": "markdown",
   "metadata": {},
   "source": [
    "#Угадай число"
   ]
  }
 ],
 "metadata": {
  "interpreter": {
   "hash": "e03202a1dee201ca949908cc6dba58333f092a5fceb6e3c566b46c3d70a8ef0d"
  },
  "kernelspec": {
   "display_name": "Python 3.9.11 64-bit",
   "language": "python",
   "name": "python3"
  },
  "language_info": {
   "codemirror_mode": {
    "name": "ipython",
    "version": 3
   },
   "file_extension": ".py",
   "mimetype": "text/x-python",
   "name": "python",
   "nbconvert_exporter": "python",
   "pygments_lexer": "ipython3",
   "version": "3.9.11"
  },
  "orig_nbformat": 4
 },
 "nbformat": 4,
 "nbformat_minor": 2
}
